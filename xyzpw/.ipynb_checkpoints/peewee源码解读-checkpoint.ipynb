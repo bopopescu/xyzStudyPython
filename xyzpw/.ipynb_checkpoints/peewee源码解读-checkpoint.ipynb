{
 "cells": [
  {
   "cell_type": "raw",
   "metadata": {
    "deletable": true,
    "editable": true
   },
   "source": [
    "---\n",
    "title: Peewee源码解读\n",
    "date: 2017-02-05\n",
    "tags: [Peewee, Python, 源码]\n",
    "---"
   ]
  },
  {
   "cell_type": "markdown",
   "metadata": {
    "deletable": true,
    "editable": true
   },
   "source": [
    "## 通过select查询语句引入"
   ]
  },
  {
   "cell_type": "code",
   "execution_count": 11,
   "metadata": {
    "collapsed": true,
    "deletable": true,
    "editable": true
   },
   "outputs": [
    {
     "name": "stdout",
     "output_type": "stream",
     "text": [
      "select query: SELECT `t1`.`id`, `t1`.`name`, `t1`.`age`, `t1`.`create_time` FROM `tb1` AS t1 WHERE (`t1`.`id` > 0)\n",
      "query result:\n",
      "{'age': 12, 'create_time': datetime.datetime(2017, 2, 5, 0, 14, 6), 'id': 1, 'name': u'test'}\n",
      "{'age': 20, 'create_time': datetime.datetime(2017, 2, 5, 0, 14, 55), 'id': 2, 'name': u'zhang'}\n"
     ]
    }
   ],
   "source": [
    "from model.db.tb1 import Tb1\n",
    "query = Tb1.select().where(Tb1.id > 0)\n",
    "print \"select query:\", query.sql()[0] % tuple(query.sql()[1])\n",
    "print \"query result:\"\n",
    "for item in query.dicts().execute():\n",
    "    print item"
   ]
  },
  {
   "cell_type": "markdown",
   "metadata": {
    "deletable": true,
    "editable": true
   },
   "source": [
    "## 分析每一次调用"
   ]
  },
  {
   "cell_type": "markdown",
   "metadata": {
    "deletable": true,
    "editable": true
   },
   "source": [
    "![](/home/abc/Projects/xyzpw/peewee_select_query.png)"
   ]
  },
  {
   "cell_type": "markdown",
   "metadata": {
    "deletable": true,
    "editable": true,
    "slideshow": {
     "slide_type": "notes"
    }
   },
   "source": [
    "![peewee_select_query](peewee_select_query.png)\n",
    "其中`Tb1`是我们定义的一个Model\n",
    "```\n",
    "class Tb1(XYZ_DB.Model):\n",
    "    \"\"\"\n",
    "    \"\"\"\n",
    "    id = PrimaryKeyField()\n",
    "    name = CharField()\n",
    "    age = IntegerField()\n",
    "    create_time = DateTimeField()\n",
    "\n",
    "    class Meta(object):\n",
    "\n",
    "        \"\"\"表配置信息\n",
    "        \"\"\"\n",
    "        db_table = \"tb1\"\n",
    "```\n",
    "peewee对`Model`类指定`BaseModel`元类\n",
    "```\n",
    "class Model(with_metaclass(BaseModel)):\n",
    "```"
   ]
  },
  {
   "cell_type": "markdown",
   "metadata": {
    "deletable": true,
    "editable": true
   },
   "source": []
  },
  {
   "cell_type": "code",
   "execution_count": null,
   "metadata": {
    "collapsed": false,
    "deletable": true,
    "editable": true
   },
   "outputs": [],
   "source": []
  },
  {
   "cell_type": "markdown",
   "metadata": {
    "deletable": true,
    "editable": true
   },
   "source": [
    "[Jupyter Markdown](http://daringfireball.net/)"
   ]
  }
 ],
 "metadata": {
  "kernelspec": {
   "display_name": "Python 2",
   "language": "python",
   "name": "python2"
  },
  "language_info": {
   "codemirror_mode": {
    "name": "ipython",
    "version": 2
   },
   "file_extension": ".py",
   "mimetype": "text/x-python",
   "name": "python",
   "nbconvert_exporter": "python",
   "pygments_lexer": "ipython2",
   "version": "2.7.12"
  }
 },
 "nbformat": 4,
 "nbformat_minor": 0
}
