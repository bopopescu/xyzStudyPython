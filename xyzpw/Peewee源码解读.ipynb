{
 "cells": [
  {
   "cell_type": "raw",
   "metadata": {
    "deletable": true,
    "editable": true
   },
   "source": [
    "---\n",
    "title: Peewee源码解读\n",
    "date: 2017-02-05\n",
    "tags: [Peewee, Python, 源码]\n",
    "---"
   ]
  },
  {
   "cell_type": "markdown",
   "metadata": {
    "deletable": true,
    "editable": true
   },
   "source": [
    "## 通过select查询语句引入"
   ]
  },
  {
   "cell_type": "code",
   "execution_count": 5,
   "metadata": {
    "collapsed": false,
    "deletable": true,
    "editable": true
   },
   "outputs": [
    {
     "name": "stdout",
     "output_type": "stream",
     "text": [
      "select query: SELECT `t1`.`id`, `t1`.`name`, `t1`.`age`, `t1`.`create_time` FROM `tb_raw` AS t1 WHERE (`t1`.`id` > 0)\n",
      "query result:\n",
      "{'age': 12, 'create_time': datetime.datetime(2017, 2, 5, 0, 14, 6), 'id': 1, 'name': u'test'}\n",
      "{'age': 20, 'create_time': datetime.datetime(2017, 2, 5, 0, 14, 55), 'id': 2, 'name': u'zhang'}\n"
     ]
    }
   ],
   "source": [
    "from model.db.tb_raw import TbRaw\n",
    "query = TbRaw.select().where(TbRaw.id > 0)\n",
    "print \"select query:\", query.sql()[0] % tuple(query.sql()[1])\n",
    "print \"query result:\"\n",
    "for item in query.dicts().execute():\n",
    "    print item"
   ]
  },
  {
   "cell_type": "markdown",
   "metadata": {
    "deletable": true,
    "editable": true
   },
   "source": [
    "## 分析每一次调用"
   ]
  },
  {
   "cell_type": "markdown",
   "metadata": {
    "deletable": true,
    "editable": true
   },
   "source": [
    "![](/home/abc/Projects/xyzpw/peewee_select_query.png)"
   ]
  },
  {
   "cell_type": "markdown",
   "metadata": {
    "deletable": true,
    "editable": true,
    "slideshow": {
     "slide_type": "notes"
    }
   },
   "source": [
    "![peewee_select_query](peewee_select_query.png)\n",
    "### Model\n",
    "其中`Tb1`是我们定义的一个Model\n",
    "```\n",
    "class TbRaw(Model):\n",
    "\n",
    "    \"\"\"\n",
    "    \"\"\"\n",
    "    id = PrimaryKeyField()\n",
    "    name = CharField()\n",
    "    age = IntegerField()\n",
    "    create_time = DateTimeField()\n",
    "\n",
    "    class Meta(object):\n",
    "\n",
    "        \"\"\"表配置信息\n",
    "        \"\"\"\n",
    "        database = MySQLDatabase(database=\"xyz\", host=\"127.0.0.1\", password=\"123456\", user=\"root\", port=3306)\n",
    "        db_table = \"tb_raw\"\n",
    "\n",
    "```\n",
    "peewee对`Model`类指定`BaseModel`元类\n",
    "```\n",
    "class Model(with_metaclass(BaseModel)):\n",
    "```\n",
    "而`BaseModel`中做的就是将TbRaw的配置信息转换成一个`ModelOptions`对象放到`_meta`中，其中包括数据库连接、字段信息、主键、表明、索引等。因为`_meta`是在元类中生成，所以Model表的配置信息不能针对实例做修改，而是一个整体的修改。这里对于做分表查询不能很好的支持。\n",
    "![tb_raw_meta](tb_raw_meta.png)\n",
    "\n",
    "`Model`中提供了SQL中的数据查询、操作、定义的类方法，对应方法返回的对象如下。\n"
   ]
  },
  {
   "cell_type": "raw",
   "metadata": {
    "deletable": true,
    "editable": true
   },
   "source": [
    "|Model方法|返回对象|\n",
    "|--------|--------|\n",
    "|select()|SelectQuery|\n",
    "|update()|UpdateQuery|\n",
    "|insert()|InsertQuery|\n",
    "|delete()|DeleteQuery|\n",
    "|raw()|RawQuery|\n",
    "|noop()|NoopSelectQuery|"
   ]
  },
  {
   "cell_type": "markdown",
   "metadata": {
    "deletable": true,
    "editable": true
   },
   "source": [
    "### SelectQuery\n",
    "```\n",
    "    @classmethod\n",
    "    def select(cls, *selection):\n",
    "        query = SelectQuery(cls, *selection)\n",
    "        if cls._meta.order_by:\n",
    "            query = query.order_by(*cls._meta.order_by)\n",
    "        return query\n",
    "```\n",
    "`select()`方法返回一个`SelectQuery`对象，并将排序字段传递进去。\n",
    "\n",
    "`SelectQuery`中提供保留的查询方法（group_by、having、order_by、window、limit、offset、paginate、distinct、where等）\n",
    "这些查询方法通过修饰器`@returns_clone`每一次返回一个新的`SelectQuery`对象。\n",
    "```\n",
    "def returns_clone(func):\n",
    "    \"\"\"\n",
    "    Method decorator that will \"clone\" the object before applying the given\n",
    "    method.  This ensures that state is mutated in a more predictable fashion,\n",
    "    and promotes the use of method-chaining.\n",
    "    \"\"\"\n",
    "    def inner(self, *args, **kwargs):\n",
    "        clone = self.clone()  # Assumes object implements `clone`.\n",
    "        func(clone, *args, **kwargs)\n",
    "        return clone\n",
    "    inner.call_local = func  # Provide a way to call without cloning.\n",
    "    return inner\n",
    "```\n",
    "`return_clone`首先会调用`Query`中的`clone()`方法，然后执行相应的保留查询方法。\n",
    "```\n",
    "def clone(self):\n",
    "    query = type(self)(self.model_class)\n",
    "    query.database = self.database\n",
    "    return self._clone_attributes(query)\n",
    "```\n",
    "`clone()`方法会生成一个新的`SelectQuery`对象，然后复用数据库连接，克隆原Query实例中的对象。"
   ]
  },
  {
   "cell_type": "code",
   "execution_count": 7,
   "metadata": {
    "collapsed": false
   },
   "outputs": [
    {
     "name": "stdout",
     "output_type": "stream",
     "text": [
      "(SELECT `t1`.`id`, `t1`.`name`, `t1`.`age`, `t1`.`create_time` FROM `tb_raw` AS t1 WHERE (`t1`.`id` >= 2)) UNION (SELECT `t2`.`id`, `t2`.`name`, `t2`.`age`, `t2`.`create_time` FROM `tb_raw` AS t2 WHERE (`t2`.`id` < 2))\n",
      "{'age': 20, 'create_time': datetime.datetime(2017, 2, 5, 0, 14, 55), 'id': 2, 'name': u'zhang'}\n",
      "{'age': 12, 'create_time': datetime.datetime(2017, 2, 5, 0, 14, 6), 'id': 1, 'name': u'test'}\n"
     ]
    }
   ],
   "source": [
    "# UNION查询\n",
    "query = TbRaw.select().where(TbRaw.id >= 2) | TbRaw.select().where(TbRaw.id < 2)\n",
    "print query.sql()[0] % tuple(query.sql()[1])\n",
    "for item in query.dicts().execute():\n",
    "    print item"
   ]
  },
  {
   "cell_type": "markdown",
   "metadata": {},
   "source": [
    "在`SelectQuery`中通过重载运算符实现UNION（并集）、INTERSECT（交集）、EXCEPT（差集）语句。\n",
    "```\n",
    "def compound_op(operator):\n",
    "    def inner(self, other):\n",
    "        supported_ops = self.model_class._meta.database.compound_operations\n",
    "        if operator not in supported_ops:\n",
    "            raise ValueError(\n",
    "                'Your database does not support %s' % operator)\n",
    "        return CompoundSelect(self.model_class, self, operator, other)\n",
    "    return inner\n",
    "_compound_op_static = staticmethod(compound_op)\n",
    "\n",
    "__or__ = compound_op('UNION')\n",
    "__and__ = compound_op('INTERSECT')\n",
    "__sub__ = compound_op('EXCEPT')\n",
    "\n",
    "def __xor__(self, rhs):\n",
    "    # Symmetric difference, should just be (self | rhs) - (self & rhs)...\n",
    "    wrapped_rhs = self.model_class.select(SQL('*')).from_(\n",
    "        EnclosedClause((self & rhs)).alias('_')).order_by()\n",
    "    return (self | rhs) - wrapped_rhs\n",
    "def union_all(self, rhs):\n",
    "    return SelectQuery._compound_op_static('UNION ALL')(self, rhs)\n",
    "```"
   ]
  },
  {
   "cell_type": "markdown",
   "metadata": {},
   "source": [
    "### execute()\n",
    "```\n",
    "def execute(self):\n",
    "    if self._dirty or self._qr is None:\n",
    "        model_class = self.model_class\n",
    "        query_meta = self.get_query_meta()\n",
    "        ResultWrapper = self._get_result_wrapper()\n",
    "        self._qr = ResultWrapper(model_class, self._execute(), query_meta)\n",
    "        self._dirty = False\n",
    "        return self._qr\n",
    "    else:\n",
    "        return self._qr\n",
    "```\n",
    "`execute()`方法是生成语句并获取返回数据的地方。"
   ]
  },
  {
   "cell_type": "markdown",
   "metadata": {
    "deletable": true,
    "editable": true
   },
   "source": [
    "[Jupyter Markdown](http://daringfireball.net/)"
   ]
  }
 ],
 "metadata": {
  "kernelspec": {
   "display_name": "Python 2",
   "language": "python",
   "name": "python2"
  },
  "language_info": {
   "codemirror_mode": {
    "name": "ipython",
    "version": 2
   },
   "file_extension": ".py",
   "mimetype": "text/x-python",
   "name": "python",
   "nbconvert_exporter": "python",
   "pygments_lexer": "ipython2",
   "version": "2.7.12"
  }
 },
 "nbformat": 4,
 "nbformat_minor": 0
}
